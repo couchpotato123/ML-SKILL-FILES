{
 "cells": [
  {
   "cell_type": "code",
   "execution_count": 2,
   "id": "08f0be02",
   "metadata": {},
   "outputs": [
    {
     "data": {
      "text/html": [
       "<div>\n",
       "<style scoped>\n",
       "    .dataframe tbody tr th:only-of-type {\n",
       "        vertical-align: middle;\n",
       "    }\n",
       "\n",
       "    .dataframe tbody tr th {\n",
       "        vertical-align: top;\n",
       "    }\n",
       "\n",
       "    .dataframe thead th {\n",
       "        text-align: right;\n",
       "    }\n",
       "</style>\n",
       "<table border=\"1\" class=\"dataframe\">\n",
       "  <thead>\n",
       "    <tr style=\"text-align: right;\">\n",
       "      <th></th>\n",
       "      <th>NumFishMeals</th>\n",
       "      <th>TotalMercury</th>\n",
       "    </tr>\n",
       "  </thead>\n",
       "  <tbody>\n",
       "    <tr>\n",
       "      <th>0</th>\n",
       "      <td>2.0</td>\n",
       "      <td>2.60</td>\n",
       "    </tr>\n",
       "    <tr>\n",
       "      <th>1</th>\n",
       "      <td>15.0</td>\n",
       "      <td>7.06</td>\n",
       "    </tr>\n",
       "    <tr>\n",
       "      <th>2</th>\n",
       "      <td>17.0</td>\n",
       "      <td>8.63</td>\n",
       "    </tr>\n",
       "    <tr>\n",
       "      <th>3</th>\n",
       "      <td>23.0</td>\n",
       "      <td>14.11</td>\n",
       "    </tr>\n",
       "    <tr>\n",
       "      <th>4</th>\n",
       "      <td>21.0</td>\n",
       "      <td>8.05</td>\n",
       "    </tr>\n",
       "    <tr>\n",
       "      <th>...</th>\n",
       "      <td>...</td>\n",
       "      <td>...</td>\n",
       "    </tr>\n",
       "    <tr>\n",
       "      <th>95</th>\n",
       "      <td>32.0</td>\n",
       "      <td>20.23</td>\n",
       "    </tr>\n",
       "    <tr>\n",
       "      <th>96</th>\n",
       "      <td>23.0</td>\n",
       "      <td>11.27</td>\n",
       "    </tr>\n",
       "    <tr>\n",
       "      <th>97</th>\n",
       "      <td>17.0</td>\n",
       "      <td>8.47</td>\n",
       "    </tr>\n",
       "    <tr>\n",
       "      <th>98</th>\n",
       "      <td>13.0</td>\n",
       "      <td>5.78</td>\n",
       "    </tr>\n",
       "    <tr>\n",
       "      <th>99</th>\n",
       "      <td>32.0</td>\n",
       "      <td>17.80</td>\n",
       "    </tr>\n",
       "  </tbody>\n",
       "</table>\n",
       "<p>100 rows × 2 columns</p>\n",
       "</div>"
      ],
      "text/plain": [
       "    NumFishMeals  TotalMercury\n",
       "0            2.0          2.60\n",
       "1           15.0          7.06\n",
       "2           17.0          8.63\n",
       "3           23.0         14.11\n",
       "4           21.0          8.05\n",
       "..           ...           ...\n",
       "95          32.0         20.23\n",
       "96          23.0         11.27\n",
       "97          17.0          8.47\n",
       "98          13.0          5.78\n",
       "99          32.0         17.80\n",
       "\n",
       "[100 rows x 2 columns]"
      ]
     },
     "execution_count": 2,
     "metadata": {},
     "output_type": "execute_result"
    }
   ],
   "source": [
    "'''Suppose you want to see if there was a significant linear relationship between the \n",
    "number of fish meals consumed per week and the total\n",
    "mercury levels found amongst fishermen.\n",
    "The dataset used is available in the link given below.'''\n",
    "\n",
    "\n",
    "\n",
    "#Read the dataset in python environment\n",
    "\n",
    "import pandas as pd\n",
    "\n",
    "\n",
    "df=pd.read_csv(\"https://gist.githubusercontent.com/vsipra/a895d0310c279cd1120349445dc00878/raw/ae45fb43b767d82b11c9a6feb73d3ac0f4b5be8a/fisherman_mercury_levels.csv\")\n",
    "df"
   ]
  },
  {
   "cell_type": "code",
   "execution_count": 3,
   "id": "cac8f74d",
   "metadata": {},
   "outputs": [
    {
     "data": {
      "text/plain": [
       "<AxesSubplot:xlabel='NumFishMeals', ylabel='TotalMercury'>"
      ]
     },
     "execution_count": 3,
     "metadata": {},
     "output_type": "execute_result"
    },
    {
     "data": {
      "image/png": "[encoded data removed]",
      "text/plain": [
       "<Figure size 432x288 with 1 Axes>"
      ]
     },
     "metadata": {
      "needs_background": "light"
     },
     "output_type": "display_data"
    }
   ],
   "source": [
    "#Draw a scatterplot using the data to see if there exists any trend in the data\n",
    "\n",
    "df.plot.scatter(x = 'NumFishMeals', y = 'TotalMercury', s = 10)"
   ]
  },
  {
   "cell_type": "code",
   "execution_count": 4,
   "id": "84043f30",
   "metadata": {},
   "outputs": [
    {
     "data": {
      "text/plain": [
       "0.7779836869474297"
      ]
     },
     "execution_count": 4,
     "metadata": {},
     "output_type": "execute_result"
    }
   ],
   "source": [
    "#Calculate the correlation coefficient and write your comment on the value\n",
    "\n",
    "c1=df[\"NumFishMeals\"]\n",
    "c2=df[\"TotalMercury\"]\n",
    "\n",
    "x=c1.corr(c2)\n",
    "x                                #Hence it is a strong positive correlation\n"
   ]
  },
  {
   "cell_type": "code",
   "execution_count": 6,
   "id": "17aca531",
   "metadata": {},
   "outputs": [
    {
     "data": {
      "text/plain": [
       "[<matplotlib.lines.Line2D at 0x220dee5ddc0>]"
      ]
     },
     "execution_count": 6,
     "metadata": {},
     "output_type": "execute_result"
    },
    {
     "data": {
      "image/png": "[encoded data removed]",
      "text/plain": [
       "<Figure size 432x288 with 1 Axes>"
      ]
     },
     "metadata": {
      "needs_background": "light"
     },
     "output_type": "display_data"
    }
   ],
   "source": [
    "#Fit a simple linear regression model and write comments on the following\n",
    "#a. Slope\n",
    "#b. Intercept\n",
    "from sklearn.linear_model import LinearRegression\n",
    "import matplotlib.pyplot as plt\n",
    "%matplotlib inline\n",
    "\n",
    "x = df.iloc[:, 0].values.reshape(-1, 1)\n",
    "y = df.iloc[:, 1].values.reshape(-1, 1) \n",
    "\n",
    "a = LinearRegression()\n",
    "\n",
    "a.fit(x, y)\n",
    "Y_pred = a.predict(x) \n",
    "\n",
    "plt.scatter(x,y,s=10, color=\"red\")\n",
    "plt.plot(x, Y_pred, color=\"black\")\n",
    "\n"
   ]
  },
  {
   "cell_type": "code",
   "execution_count": 7,
   "id": "04250cb7",
   "metadata": {},
   "outputs": [
    {
     "name": "stdout",
     "output_type": "stream",
     "text": [
      "Slope: 0.4828938578033156\n",
      "Intercept: 1.3558285498639417\n"
     ]
    }
   ],
   "source": [
    "a = df[\"NumFishMeals\"]\n",
    "b = df[\"TotalMercury\"]\n",
    "\n",
    "from scipy.stats import linregress\n",
    "\n",
    "slope, intercept, r_value, p_value, std_err = linregress(a,b)\n",
    "\n",
    "\n",
    "\n",
    "print(\"Slope:\",slope)\n",
    "print(\"Intercept:\",intercept)"
   ]
  }
 ],
 "metadata": {
  "kernelspec": {
   "display_name": "Python 3",
   "language": "python",
   "name": "python3"
  },
  "language_info": {
   "codemirror_mode": {
    "name": "ipython",
    "version": 3
   },
   "file_extension": ".py",
   "mimetype": "text/x-python",
   "name": "python",
   "nbconvert_exporter": "python",
   "pygments_lexer": "ipython3",
   "version": "3.8.8"
  }
 },
 "nbformat": 4,
 "nbformat_minor": 5
}
